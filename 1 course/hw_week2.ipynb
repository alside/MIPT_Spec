{
 "cells": [
  {
   "cell_type": "code",
   "execution_count": 90,
   "metadata": {
    "collapsed": true
   },
   "outputs": [],
   "source": [
    "import numpy as np\n",
    "import pandas as pd\n",
    "import re\n",
    "from scipy.spatial.distance import cosine"
   ]
  },
  {
   "cell_type": "code",
   "execution_count": 91,
   "metadata": {
    "collapsed": true
   },
   "outputs": [],
   "source": [
    "text = open('sentences.txt')"
   ]
  },
  {
   "cell_type": "code",
   "execution_count": 92,
   "metadata": {
    "collapsed": true
   },
   "outputs": [],
   "source": [
    "sentences = [x.lower() for x in text]"
   ]
  },
  {
   "cell_type": "code",
   "execution_count": 93,
   "metadata": {
    "collapsed": true
   },
   "outputs": [],
   "source": [
    "sentences = [re.split('[^a-z]', x) for x in sentences]"
   ]
  },
  {
   "cell_type": "code",
   "execution_count": 94,
   "metadata": {
    "collapsed": true
   },
   "outputs": [],
   "source": [
    "sentences = [[word for word in words if word != ''] for words in sentences]"
   ]
  },
  {
   "cell_type": "code",
   "execution_count": 95,
   "metadata": {
    "collapsed": true
   },
   "outputs": [],
   "source": [
    "res = []\n",
    "for words in sentences:\n",
    "    res += words\n",
    "sentences_in_a_row = res"
   ]
  },
  {
   "cell_type": "code",
   "execution_count": 97,
   "metadata": {},
   "outputs": [],
   "source": [
    "coun = {}\n",
    "for word in sentences_in_a_row:\n",
    "    coun[word] = coun.get(word, 0) + 1\n",
    "counts = {}\n",
    "i = 0\n",
    "for word in coun:\n",
    "    counts[word] = i\n",
    "    i += 1\n",
    "\n",
    "\n",
    "d = len(counts)\n",
    "\n",
    "n = len(sentences)"
   ]
  },
  {
   "cell_type": "code",
   "execution_count": 98,
   "metadata": {
    "collapsed": true
   },
   "outputs": [],
   "source": [
    "mat = np.zeros((n, d))\n",
    "all_words = list(counts.keys())\n",
    "\n",
    "i = 0\n",
    "for sentence in sentences:\n",
    "    for word in sentence:\n",
    "        mat[i, all_words.index(word)] += 1\n",
    "    i += 1"
   ]
  },
  {
   "cell_type": "code",
   "execution_count": 99,
   "metadata": {
    "collapsed": true
   },
   "outputs": [],
   "source": [
    "cosines = [cosine(mat[0], sent) for sent in mat]"
   ]
  },
  {
   "cell_type": "code",
   "execution_count": 100,
   "metadata": {
    "scrolled": false
   },
   "outputs": [
    {
     "data": {
      "text/plain": [
       "{0: 0.0,\n",
       " 1: 0.95275444087384664,\n",
       " 2: 0.86447381456421235,\n",
       " 3: 0.89517151632780823,\n",
       " 4: 0.77708871496985887,\n",
       " 5: 0.94023856953328033,\n",
       " 6: 0.7327387580875756,\n",
       " 7: 0.92587506833388988,\n",
       " 8: 0.88427248752843102,\n",
       " 9: 0.90550888174769317,\n",
       " 10: 0.83281653622739416,\n",
       " 11: 0.88047713906656067,\n",
       " 12: 0.83964325485254543,\n",
       " 13: 0.87035925528956715,\n",
       " 14: 0.87401184233025764,\n",
       " 15: 0.94427217874246472,\n",
       " 16: 0.84063618542208085,\n",
       " 17: 0.95664450152379399,\n",
       " 18: 0.94427217874246472,\n",
       " 19: 0.88854435748492944,\n",
       " 20: 0.84275727449171223,\n",
       " 21: 0.82503644694405864}"
      ]
     },
     "execution_count": 100,
     "metadata": {},
     "output_type": "execute_result"
    }
   ],
   "source": [
    "dict(zip(range(len(cosines)), cosines))"
   ]
  },
  {
   "cell_type": "code",
   "execution_count": 39,
   "metadata": {},
   "outputs": [
    {
     "data": {
      "text/plain": [
       "4"
      ]
     },
     "execution_count": 39,
     "metadata": {},
     "output_type": "execute_result"
    }
   ],
   "source": [
    "fl = open('out.txt', 'w')\n",
    "fl.write('1 17')"
   ]
  },
  {
   "cell_type": "code",
   "execution_count": 40,
   "metadata": {
    "collapsed": true
   },
   "outputs": [],
   "source": [
    "fl.close()"
   ]
  },
  {
   "cell_type": "code",
   "execution_count": null,
   "metadata": {
    "collapsed": true
   },
   "outputs": [],
   "source": []
  },
  {
   "cell_type": "code",
   "execution_count": 4,
   "metadata": {
    "collapsed": true
   },
   "outputs": [],
   "source": [
    "def f(x):\n",
    "    return np.sin(x / 5) * np.exp(x / 10) + 5 * np.exp(-x / 2)"
   ]
  },
  {
   "cell_type": "code",
   "execution_count": 60,
   "metadata": {},
   "outputs": [],
   "source": [
    "x1 = 1\n",
    "x2 = 15\n",
    "A = np.array([[1, x1], [1, x2]]) # 1, 15\n",
    "b = np.array([f(x1), f(x2)])"
   ]
  },
  {
   "cell_type": "code",
   "execution_count": 61,
   "metadata": {},
   "outputs": [],
   "source": [
    "from scipy.linalg import solve\n",
    "import matplotlib.pyplot as plt\n",
    "%matplotlib inline"
   ]
  },
  {
   "cell_type": "code",
   "execution_count": 62,
   "metadata": {
    "collapsed": true
   },
   "outputs": [],
   "source": [
    "x = solve(A, b)"
   ]
  },
  {
   "cell_type": "code",
   "execution_count": 63,
   "metadata": {},
   "outputs": [
    {
     "data": {
      "text/plain": [
       "array([ 3.43914511, -0.18692825])"
      ]
     },
     "execution_count": 63,
     "metadata": {},
     "output_type": "execute_result"
    }
   ],
   "source": [
    "x"
   ]
  },
  {
   "cell_type": "code",
   "execution_count": 64,
   "metadata": {},
   "outputs": [
    {
     "data": {
      "image/png": "[encoded data removed]",
      "text/plain": [
       "<matplotlib.figure.Figure at 0x7fb99b361a58>"
      ]
     },
     "metadata": {},
     "output_type": "display_data"
    }
   ],
   "source": [
    "xs = np.arange(1, 15, 0.2)\n",
    "ys = f(xs)\n",
    "r1 = np.array([1, x1]).dot(x)\n",
    "r2 = np.array([1, x2]).dot(x)\n",
    "plt.plot(xs, ys, '-', [x1, x2], [r1, r2], '-')\n",
    "plt.show()"
   ]
  },
  {
   "cell_type": "code",
   "execution_count": 65,
   "metadata": {
    "collapsed": true
   },
   "outputs": [],
   "source": [
    "x1 = 1\n",
    "x2 = 8\n",
    "x3 = 15\n",
    "A = np.array([[1, x1, x1**2], [1, x2, x2**2], [1, x3, x3**2]]) # 1, 8, 15\n",
    "b = np.array([f(x1), f(x2), f(x3)])"
   ]
  },
  {
   "cell_type": "code",
   "execution_count": 66,
   "metadata": {
    "collapsed": true
   },
   "outputs": [],
   "source": [
    "x = solve(A, b)"
   ]
  },
  {
   "cell_type": "code",
   "execution_count": 67,
   "metadata": {},
   "outputs": [
    {
     "data": {
      "text/plain": [
       "array([ 3.32512949, -0.06531159, -0.00760104])"
      ]
     },
     "execution_count": 67,
     "metadata": {},
     "output_type": "execute_result"
    }
   ],
   "source": [
    "x"
   ]
  },
  {
   "cell_type": "code",
   "execution_count": 68,
   "metadata": {},
   "outputs": [
    {
     "data": {
      "image/png": "[encoded data removed]",
      "text/plain": [
       "<matplotlib.figure.Figure at 0x7fb99ae02be0>"
      ]
     },
     "metadata": {},
     "output_type": "display_data"
    }
   ],
   "source": [
    "r1 = np.array([1, x1, x1**2]).dot(x)\n",
    "r2 = np.array([1, x2, x2**2]).dot(x)\n",
    "r3 = np.array([1, x3, x3**2]).dot(x)\n",
    "\n",
    "xs = np.arange(1, 15, 0.2)\n",
    "ys = f(xs)\n",
    "plt.plot(xs, ys, '-', [x1, x2, x3], [r1, r2, r3], '-')\n",
    "plt.show()"
   ]
  },
  {
   "cell_type": "code",
   "execution_count": 87,
   "metadata": {},
   "outputs": [
    {
     "data": {
      "image/png": "[encoded data removed]",
      "text/plain": [
       "<matplotlib.figure.Figure at 0x7fb99b078470>"
      ]
     },
     "metadata": {},
     "output_type": "display_data"
    }
   ],
   "source": [
    "x1 = 1\n",
    "x2 = 4\n",
    "x3 = 10\n",
    "x4 = 15\n",
    "A = np.array([[1, x1, x1**2, x1**3], [1, x2, x2**2, x2**3],\n",
    "              [1, x3, x3**2, x3**3], [1, x4, x4**2, x4**3]]) # 1, 4, 10, 15\n",
    "b = np.array([f(x1), f(x2), f(x3), f(x4)])\n",
    "\n",
    "x = solve(A, b)\n",
    "\n",
    "r1 = np.array([1, x1, x1**2, x1**3]).dot(x)\n",
    "r2 = np.array([1, x2, x2**2, x2**3]).dot(x)\n",
    "r3 = np.array([1, x3, x3**2, x3**3]).dot(x)\n",
    "r4 = np.array([1, x4, x4**2, x4**3]).dot(x)\n",
    "\n",
    "xs = np.arange(1, 15, 0.2)\n",
    "ys = f(xs)\n",
    "plt.plot(xs, ys, '-', [x1, x2, x3, x4], [r1, r2, r3, r4], '-')\n",
    "plt.show()"
   ]
  },
  {
   "cell_type": "code",
   "execution_count": 88,
   "metadata": {},
   "outputs": [],
   "source": [
    "np.savetxt('submission-2.txt', x, delimiter=' ', newline=' ', fmt='%f')"
   ]
  },
  {
   "cell_type": "code",
   "execution_count": 89,
   "metadata": {},
   "outputs": [
    {
     "data": {
      "text/plain": [
       "array([ 4.36264154, -1.29552587,  0.19333685, -0.00823565])"
      ]
     },
     "execution_count": 89,
     "metadata": {},
     "output_type": "execute_result"
    }
   ],
   "source": [
    "x"
   ]
  },
  {
   "cell_type": "code",
   "execution_count": null,
   "metadata": {},
   "outputs": [],
   "source": []
  },
  {
   "cell_type": "code",
   "execution_count": null,
   "metadata": {
    "collapsed": true
   },
   "outputs": [],
   "source": []
  }
 ],
 "metadata": {
  "kernelspec": {
   "display_name": "Python 3",
   "language": "python",
   "name": "python3"
  },
  "language_info": {
   "codemirror_mode": {
    "name": "ipython",
    "version": 3
   },
   "file_extension": ".py",
   "mimetype": "text/x-python",
   "name": "python",
   "nbconvert_exporter": "python",
   "pygments_lexer": "ipython3",
   "version": "3.5.2"
  }
 },
 "nbformat": 4,
 "nbformat_minor": 2
}
